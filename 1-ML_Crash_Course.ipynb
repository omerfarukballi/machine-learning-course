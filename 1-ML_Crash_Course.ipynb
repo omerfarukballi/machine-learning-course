{
 "cells": [
  {
   "cell_type": "markdown",
   "metadata": {},
   "source": [
    "<h1><center>Welcome to \"Introduction to Machine Learning\" course</center></h1>"
   ]
  },
  {
   "cell_type": "markdown",
   "metadata": {},
   "source": [
    "<h3><center>We can start with history of machine learning!</center></h3>"
   ]
  },
  {
   "cell_type": "markdown",
   "metadata": {},
   "source": [
    "![alt text](timeML.png \"Title\")"
   ]
  },
  {
   "cell_type": "markdown",
   "metadata": {},
   "source": [
    "<p>While at IBM, Arthur Samuel developed a program that learned how to play checkers (1959). He called it:\n",
    "<br><br>\n",
    "“The field of study that gives computers the ability to learn without being explicitly programmed.”\n",
    "<br><br>\n",
    "What does this mean?\n",
    "<br><br>\n",
    "As programmers, we often approach problems in a methodical, logic-based way. We try to determine what our desired outputs should be, and then create the proper rules that will transform our inputs into those outputs.\n",
    "<br><br>\n",
    "Machine learning flips the script. We want the program itself to learn the rules that describe our data the best, by finding patterns in what we know and applying those patterns to what we don’t know.\n",
    "<br><br>\n",
    "These algorithms are able to learn. Their performance gets better and better with each iteration, as it uncovers more hidden trends in the data.</p>"
   ]
  },
  {
   "cell_type": "markdown",
   "metadata": {},
   "source": [
    "<h3>WHY USE MACHINE LEARNING?<br></h3>\n",
    "<p>\n",
    "Machine learning can be branched out into the following categories:\n",
    "<br>\n",
    "<h5>Supervised Learning</h5>\n",
    "<h5>Unsupervised Learning<br><br><br></h5>\n",
    "Supervised Learning is where the data is labeled and the program learns to predict the output from the input data. For instance, a supervised learning algorithm for credit card fraud detection would take as input a set of recorded transactions. For each transaction, the program would predict if it is fraudulent or not.\n",
    "<br><br>\n",
    "Supervised learning problems can be further grouped into regression and classification problems.\n",
    "<br><br>\n",
    "<h5>Regression:</h5>\n",
    "<br><br>\n",
    "In regression problems, we are trying to predict a continuous-valued output. Examples are:\n",
    "<br><br>\n",
    "What is the housing price in Neo York?<br><br>\n",
    "What is the value of cryptocurrencies?<br><br>\n",
    "<h5>Classification:<br><br></h5>\n",
    "In classification problems, we are trying to predict a discrete number of values. Examples are:<br><br>\n",
    "Is this a picture of a human or a picture of an AI?<br><br>\n",
    "Is this email spam?<br><br>\n",
    "For a quick preview, we will show you an example of supervised learning.</p>"
   ]
  },
  {
   "cell_type": "markdown",
   "metadata": {},
   "source": [
    "<h3><center>Let's start to make hands dirty!</center></h3>"
   ]
  },
  {
   "cell_type": "markdown",
   "metadata": {},
   "source": [
    "<p>After this session, we can start to part 2 of crash course of machine learning</p>"
   ]
  }
 ],
 "metadata": {
  "kernelspec": {
   "display_name": "Python 3",
   "language": "python",
   "name": "python3"
  },
  "language_info": {
   "codemirror_mode": {
    "name": "ipython",
    "version": 3
   },
   "file_extension": ".py",
   "mimetype": "text/x-python",
   "name": "python",
   "nbconvert_exporter": "python",
   "pygments_lexer": "ipython3",
   "version": "3.7.6"
  }
 },
 "nbformat": 4,
 "nbformat_minor": 4
}
